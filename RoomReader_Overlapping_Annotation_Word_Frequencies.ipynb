{
  "nbformat": 4,
  "nbformat_minor": 0,
  "metadata": {
    "colab": {
      "provenance": []
    },
    "kernelspec": {
      "name": "python3",
      "display_name": "Python 3"
    },
    "language_info": {
      "name": "python"
    }
  },
  "cells": [
    {
      "cell_type": "code",
      "execution_count": null,
      "metadata": {
        "id": "MSut_2Xqii-W"
      },
      "outputs": [],
      "source": [
        "!pip install pydub\n",
        "!pip install pympi-ling\n",
        "\n",
        "import pandas as pd\n",
        "import pympi\n",
        "import numpy as np\n",
        "import re\n",
        "from collections import Counter\n",
        "from pydub import AudioSegment\n",
        "from google.colab import sheets"
      ]
    },
    {
      "cell_type": "code",
      "source": [
        "#determine overlaps for all tiers of ELAN subtitles\n",
        "\n",
        "def process_elan_file(elan_file_path):\n",
        "  #next step: create a method for creating the overlap list for all the speakers in the conversation\n",
        "  #takes in ELAN file, returns a DataFrame with the overlaps in format (start_time, end_time)\n",
        "  def get_overlaps(eaf_file):\n",
        "    eaf = pympi.Elan.Eaf(eaf_file)\n",
        "    overlaps = pd.DataFrame()\n",
        "    #iterate over tiers\n",
        "    for tier_a in eaf.get_tier_names():\n",
        "      if 'utt' in tier_a:\n",
        "        for tier_b in eaf.get_tier_names():\n",
        "          if 'utt' in tier_b and tier_a != tier_b:\n",
        "            overlaps_temp = pd.DataFrame(list(eaf.get_gaps_and_overlaps2(tier_a, tier_b, maxlen=-1)))\n",
        "            overlaps_temp = overlaps_temp[overlaps_temp[2] == 'O12']\n",
        "            overlaps = pd.concat([overlaps, overlaps_temp])\n",
        "\n",
        "    overlaps = overlaps.drop(columns=[2])\n",
        "    overlaps.columns = ['start_time1', 'end_time1']\n",
        "    return overlaps\n",
        "\n",
        "  overlap_times = get_overlaps(elan_file_path)\n",
        "  #print(overlap_times)\n",
        "\n",
        "  #get average length of overlaps\n",
        "  length = 0\n",
        "  for index, row in overlap_times.iterrows():\n",
        "    length += row['end_time1'] - row['start_time1']\n",
        "\n",
        "  print(\"avg duration of overlap =\", length/len(overlap_times), \"ms\")\n",
        "\n",
        "  #get word list from overlapping sections of ELAN file\n",
        "\n",
        "  def get_words(txt_file, overlap_times, window_size):\n",
        "    text = pd.read_csv(txt_file, sep='\\t')\n",
        "    words = pd.DataFrame()\n",
        "    for index, row in overlap_times.iterrows():\n",
        "      start_time = row['start_time1']\n",
        "      end_time = row['end_time1']\n",
        "      words_temp = text[(text['start_time1'] >= start_time - window_size) & (text['end_time1'] <= end_time + window_size)]\n",
        "      words = pd.concat([words, words_temp])\n",
        "      words.drop_duplicates(inplace=True)\n",
        "    words_final = words['content']\n",
        "    return words_final\n",
        "\n",
        "  txt_file_path = elan_file_path.replace('.eaf', '.txt')\n",
        "  word_list_initial = get_words(txt_file_path, overlap_times, 100)\n",
        "\n",
        "  #tokenize word list\n",
        "  word_list = word_list_initial.to_string().split()\n",
        "\n",
        "  #count frequency of individual words, dropping single occurrence items\n",
        "  #occurrence = {item: word_list.count(item) for item in word_list}\n",
        "  occurrence = Counter(word_list)\n",
        "\n",
        "\n",
        "  for word in word_list:\n",
        "    if occurrence.get(word) == 1:\n",
        "      word_list.remove(word)\n",
        "\n",
        "  word_series = pd.DataFrame({\n",
        "      'Word': word_list,\n",
        "      'Frequency': [occurrence[word] for word in word_list]\n",
        "    })\n",
        "\n",
        "  #filter non word elements\n",
        "  def is_word(text):\n",
        "        pattern = re.compile(r'^[a-zA-Z]+$')\n",
        "        return bool(pattern.match(text))\n",
        "\n",
        "  df_filtered = word_series[word_series['Word'].apply(is_word)]\n",
        "\n",
        "  #compare with average rate of occurrence of word in the entire conversation, to see which words appear with higher frequency around moments of overlap\n",
        "  #to compare them, creating a column with frequency_overlaps/frequency_overall\n",
        "\n",
        "  with open(txt_file_path, 'r') as text:\n",
        "    complete_wordlist = text.read().split()\n",
        "    total_occurrence = {item: complete_wordlist.count(item) for item in complete_wordlist}\n",
        "      # Calculate relative frequency\n",
        "    df_filtered['Relative Frequency'] = df_filtered['Word'].apply(lambda word: df_filtered[df_filtered['Word'] == word]['Frequency'].values[0] / total_occurrence.get(word, 1))\n",
        "\n",
        "\n",
        "  df_filtered.sort_values(by='Relative Frequency', ascending=False, inplace=True)\n",
        "  df_filtered.drop_duplicates(subset='Word', keep='first', inplace=True)\n",
        "  return df_filtered.head(200)\n",
        "\n",
        "# Example usage:\n",
        "elan_files = ['/content/S01.eaf', '/content/S02.eaf' , '/content/S03.eaf', '/content/S04.eaf', '/content/S05.eaf', '/content/S06.eaf', '/content/S07.eaf', '/content/S08.eaf', '/content/S09.eaf', '/content/S10.eaf']\n",
        "# Replace with your actual file paths\n",
        "results = {}\n",
        "for elan_file in elan_files:\n",
        "  results[elan_file] = process_elan_file(elan_file)\n",
        "\n",
        "# Print or further process the results as needed\n",
        "#for file, result in results.items():\n",
        "  #print(f\"Results for {file}:\\n{result}\\n\")\n"
      ],
      "metadata": {
        "id": "AkWhD0DvFR0g",
        "colab": {
          "base_uri": "https://localhost:8080/"
        },
        "outputId": "867299ad-b943-4573-ee02-cfa37f06d3ab"
      },
      "execution_count": 12,
      "outputs": [
        {
          "output_type": "stream",
          "name": "stdout",
          "text": [
            "avg duration of overlap = 3203.6234458259323 ms\n"
          ]
        },
        {
          "output_type": "stream",
          "name": "stderr",
          "text": [
            "<ipython-input-12-af2679f10432>:80: SettingWithCopyWarning: \n",
            "A value is trying to be set on a copy of a slice from a DataFrame.\n",
            "Try using .loc[row_indexer,col_indexer] = value instead\n",
            "\n",
            "See the caveats in the documentation: https://pandas.pydata.org/pandas-docs/stable/user_guide/indexing.html#returning-a-view-versus-a-copy\n",
            "  df_filtered['Relative Frequency'] = df_filtered['Word'].apply(lambda word: df_filtered[df_filtered['Word'] == word]['Frequency'].values[0] / total_occurrence.get(word, 1))\n",
            "<ipython-input-12-af2679f10432>:83: SettingWithCopyWarning: \n",
            "A value is trying to be set on a copy of a slice from a DataFrame\n",
            "\n",
            "See the caveats in the documentation: https://pandas.pydata.org/pandas-docs/stable/user_guide/indexing.html#returning-a-view-versus-a-copy\n",
            "  df_filtered.sort_values(by='Relative Frequency', ascending=False, inplace=True)\n",
            "<ipython-input-12-af2679f10432>:84: SettingWithCopyWarning: \n",
            "A value is trying to be set on a copy of a slice from a DataFrame\n",
            "\n",
            "See the caveats in the documentation: https://pandas.pydata.org/pandas-docs/stable/user_guide/indexing.html#returning-a-view-versus-a-copy\n",
            "  df_filtered.drop_duplicates(subset='Word', keep='first', inplace=True)\n"
          ]
        },
        {
          "output_type": "stream",
          "name": "stdout",
          "text": [
            "avg duration of overlap = 4559.127725856698 ms\n"
          ]
        },
        {
          "output_type": "stream",
          "name": "stderr",
          "text": [
            "<ipython-input-12-af2679f10432>:80: SettingWithCopyWarning: \n",
            "A value is trying to be set on a copy of a slice from a DataFrame.\n",
            "Try using .loc[row_indexer,col_indexer] = value instead\n",
            "\n",
            "See the caveats in the documentation: https://pandas.pydata.org/pandas-docs/stable/user_guide/indexing.html#returning-a-view-versus-a-copy\n",
            "  df_filtered['Relative Frequency'] = df_filtered['Word'].apply(lambda word: df_filtered[df_filtered['Word'] == word]['Frequency'].values[0] / total_occurrence.get(word, 1))\n",
            "<ipython-input-12-af2679f10432>:83: SettingWithCopyWarning: \n",
            "A value is trying to be set on a copy of a slice from a DataFrame\n",
            "\n",
            "See the caveats in the documentation: https://pandas.pydata.org/pandas-docs/stable/user_guide/indexing.html#returning-a-view-versus-a-copy\n",
            "  df_filtered.sort_values(by='Relative Frequency', ascending=False, inplace=True)\n",
            "<ipython-input-12-af2679f10432>:84: SettingWithCopyWarning: \n",
            "A value is trying to be set on a copy of a slice from a DataFrame\n",
            "\n",
            "See the caveats in the documentation: https://pandas.pydata.org/pandas-docs/stable/user_guide/indexing.html#returning-a-view-versus-a-copy\n",
            "  df_filtered.drop_duplicates(subset='Word', keep='first', inplace=True)\n"
          ]
        },
        {
          "output_type": "stream",
          "name": "stdout",
          "text": [
            "avg duration of overlap = 4200.461538461538 ms\n"
          ]
        },
        {
          "output_type": "stream",
          "name": "stderr",
          "text": [
            "<ipython-input-12-af2679f10432>:80: SettingWithCopyWarning: \n",
            "A value is trying to be set on a copy of a slice from a DataFrame.\n",
            "Try using .loc[row_indexer,col_indexer] = value instead\n",
            "\n",
            "See the caveats in the documentation: https://pandas.pydata.org/pandas-docs/stable/user_guide/indexing.html#returning-a-view-versus-a-copy\n",
            "  df_filtered['Relative Frequency'] = df_filtered['Word'].apply(lambda word: df_filtered[df_filtered['Word'] == word]['Frequency'].values[0] / total_occurrence.get(word, 1))\n",
            "<ipython-input-12-af2679f10432>:83: SettingWithCopyWarning: \n",
            "A value is trying to be set on a copy of a slice from a DataFrame\n",
            "\n",
            "See the caveats in the documentation: https://pandas.pydata.org/pandas-docs/stable/user_guide/indexing.html#returning-a-view-versus-a-copy\n",
            "  df_filtered.sort_values(by='Relative Frequency', ascending=False, inplace=True)\n",
            "<ipython-input-12-af2679f10432>:84: SettingWithCopyWarning: \n",
            "A value is trying to be set on a copy of a slice from a DataFrame\n",
            "\n",
            "See the caveats in the documentation: https://pandas.pydata.org/pandas-docs/stable/user_guide/indexing.html#returning-a-view-versus-a-copy\n",
            "  df_filtered.drop_duplicates(subset='Word', keep='first', inplace=True)\n"
          ]
        },
        {
          "output_type": "stream",
          "name": "stdout",
          "text": [
            "avg duration of overlap = 3185.4868913857676 ms\n"
          ]
        },
        {
          "output_type": "stream",
          "name": "stderr",
          "text": [
            "<ipython-input-12-af2679f10432>:80: SettingWithCopyWarning: \n",
            "A value is trying to be set on a copy of a slice from a DataFrame.\n",
            "Try using .loc[row_indexer,col_indexer] = value instead\n",
            "\n",
            "See the caveats in the documentation: https://pandas.pydata.org/pandas-docs/stable/user_guide/indexing.html#returning-a-view-versus-a-copy\n",
            "  df_filtered['Relative Frequency'] = df_filtered['Word'].apply(lambda word: df_filtered[df_filtered['Word'] == word]['Frequency'].values[0] / total_occurrence.get(word, 1))\n",
            "<ipython-input-12-af2679f10432>:83: SettingWithCopyWarning: \n",
            "A value is trying to be set on a copy of a slice from a DataFrame\n",
            "\n",
            "See the caveats in the documentation: https://pandas.pydata.org/pandas-docs/stable/user_guide/indexing.html#returning-a-view-versus-a-copy\n",
            "  df_filtered.sort_values(by='Relative Frequency', ascending=False, inplace=True)\n",
            "<ipython-input-12-af2679f10432>:84: SettingWithCopyWarning: \n",
            "A value is trying to be set on a copy of a slice from a DataFrame\n",
            "\n",
            "See the caveats in the documentation: https://pandas.pydata.org/pandas-docs/stable/user_guide/indexing.html#returning-a-view-versus-a-copy\n",
            "  df_filtered.drop_duplicates(subset='Word', keep='first', inplace=True)\n"
          ]
        },
        {
          "output_type": "stream",
          "name": "stdout",
          "text": [
            "avg duration of overlap = 2293.259207783183 ms\n"
          ]
        },
        {
          "output_type": "stream",
          "name": "stderr",
          "text": [
            "<ipython-input-12-af2679f10432>:80: SettingWithCopyWarning: \n",
            "A value is trying to be set on a copy of a slice from a DataFrame.\n",
            "Try using .loc[row_indexer,col_indexer] = value instead\n",
            "\n",
            "See the caveats in the documentation: https://pandas.pydata.org/pandas-docs/stable/user_guide/indexing.html#returning-a-view-versus-a-copy\n",
            "  df_filtered['Relative Frequency'] = df_filtered['Word'].apply(lambda word: df_filtered[df_filtered['Word'] == word]['Frequency'].values[0] / total_occurrence.get(word, 1))\n",
            "<ipython-input-12-af2679f10432>:83: SettingWithCopyWarning: \n",
            "A value is trying to be set on a copy of a slice from a DataFrame\n",
            "\n",
            "See the caveats in the documentation: https://pandas.pydata.org/pandas-docs/stable/user_guide/indexing.html#returning-a-view-versus-a-copy\n",
            "  df_filtered.sort_values(by='Relative Frequency', ascending=False, inplace=True)\n",
            "<ipython-input-12-af2679f10432>:84: SettingWithCopyWarning: \n",
            "A value is trying to be set on a copy of a slice from a DataFrame\n",
            "\n",
            "See the caveats in the documentation: https://pandas.pydata.org/pandas-docs/stable/user_guide/indexing.html#returning-a-view-versus-a-copy\n",
            "  df_filtered.drop_duplicates(subset='Word', keep='first', inplace=True)\n"
          ]
        },
        {
          "output_type": "stream",
          "name": "stdout",
          "text": [
            "avg duration of overlap = 4991.258992805755 ms\n"
          ]
        },
        {
          "output_type": "stream",
          "name": "stderr",
          "text": [
            "<ipython-input-12-af2679f10432>:80: SettingWithCopyWarning: \n",
            "A value is trying to be set on a copy of a slice from a DataFrame.\n",
            "Try using .loc[row_indexer,col_indexer] = value instead\n",
            "\n",
            "See the caveats in the documentation: https://pandas.pydata.org/pandas-docs/stable/user_guide/indexing.html#returning-a-view-versus-a-copy\n",
            "  df_filtered['Relative Frequency'] = df_filtered['Word'].apply(lambda word: df_filtered[df_filtered['Word'] == word]['Frequency'].values[0] / total_occurrence.get(word, 1))\n",
            "<ipython-input-12-af2679f10432>:83: SettingWithCopyWarning: \n",
            "A value is trying to be set on a copy of a slice from a DataFrame\n",
            "\n",
            "See the caveats in the documentation: https://pandas.pydata.org/pandas-docs/stable/user_guide/indexing.html#returning-a-view-versus-a-copy\n",
            "  df_filtered.sort_values(by='Relative Frequency', ascending=False, inplace=True)\n",
            "<ipython-input-12-af2679f10432>:84: SettingWithCopyWarning: \n",
            "A value is trying to be set on a copy of a slice from a DataFrame\n",
            "\n",
            "See the caveats in the documentation: https://pandas.pydata.org/pandas-docs/stable/user_guide/indexing.html#returning-a-view-versus-a-copy\n",
            "  df_filtered.drop_duplicates(subset='Word', keep='first', inplace=True)\n"
          ]
        },
        {
          "output_type": "stream",
          "name": "stdout",
          "text": [
            "avg duration of overlap = 2744.910071942446 ms\n"
          ]
        },
        {
          "output_type": "stream",
          "name": "stderr",
          "text": [
            "<ipython-input-12-af2679f10432>:80: SettingWithCopyWarning: \n",
            "A value is trying to be set on a copy of a slice from a DataFrame.\n",
            "Try using .loc[row_indexer,col_indexer] = value instead\n",
            "\n",
            "See the caveats in the documentation: https://pandas.pydata.org/pandas-docs/stable/user_guide/indexing.html#returning-a-view-versus-a-copy\n",
            "  df_filtered['Relative Frequency'] = df_filtered['Word'].apply(lambda word: df_filtered[df_filtered['Word'] == word]['Frequency'].values[0] / total_occurrence.get(word, 1))\n",
            "<ipython-input-12-af2679f10432>:83: SettingWithCopyWarning: \n",
            "A value is trying to be set on a copy of a slice from a DataFrame\n",
            "\n",
            "See the caveats in the documentation: https://pandas.pydata.org/pandas-docs/stable/user_guide/indexing.html#returning-a-view-versus-a-copy\n",
            "  df_filtered.sort_values(by='Relative Frequency', ascending=False, inplace=True)\n",
            "<ipython-input-12-af2679f10432>:84: SettingWithCopyWarning: \n",
            "A value is trying to be set on a copy of a slice from a DataFrame\n",
            "\n",
            "See the caveats in the documentation: https://pandas.pydata.org/pandas-docs/stable/user_guide/indexing.html#returning-a-view-versus-a-copy\n",
            "  df_filtered.drop_duplicates(subset='Word', keep='first', inplace=True)\n"
          ]
        },
        {
          "output_type": "stream",
          "name": "stdout",
          "text": [
            "avg duration of overlap = 3553.8278145695363 ms\n"
          ]
        },
        {
          "output_type": "stream",
          "name": "stderr",
          "text": [
            "<ipython-input-12-af2679f10432>:80: SettingWithCopyWarning: \n",
            "A value is trying to be set on a copy of a slice from a DataFrame.\n",
            "Try using .loc[row_indexer,col_indexer] = value instead\n",
            "\n",
            "See the caveats in the documentation: https://pandas.pydata.org/pandas-docs/stable/user_guide/indexing.html#returning-a-view-versus-a-copy\n",
            "  df_filtered['Relative Frequency'] = df_filtered['Word'].apply(lambda word: df_filtered[df_filtered['Word'] == word]['Frequency'].values[0] / total_occurrence.get(word, 1))\n",
            "<ipython-input-12-af2679f10432>:83: SettingWithCopyWarning: \n",
            "A value is trying to be set on a copy of a slice from a DataFrame\n",
            "\n",
            "See the caveats in the documentation: https://pandas.pydata.org/pandas-docs/stable/user_guide/indexing.html#returning-a-view-versus-a-copy\n",
            "  df_filtered.sort_values(by='Relative Frequency', ascending=False, inplace=True)\n",
            "<ipython-input-12-af2679f10432>:84: SettingWithCopyWarning: \n",
            "A value is trying to be set on a copy of a slice from a DataFrame\n",
            "\n",
            "See the caveats in the documentation: https://pandas.pydata.org/pandas-docs/stable/user_guide/indexing.html#returning-a-view-versus-a-copy\n",
            "  df_filtered.drop_duplicates(subset='Word', keep='first', inplace=True)\n"
          ]
        },
        {
          "output_type": "stream",
          "name": "stdout",
          "text": [
            "avg duration of overlap = 3385.9650259067357 ms\n"
          ]
        },
        {
          "output_type": "stream",
          "name": "stderr",
          "text": [
            "<ipython-input-12-af2679f10432>:80: SettingWithCopyWarning: \n",
            "A value is trying to be set on a copy of a slice from a DataFrame.\n",
            "Try using .loc[row_indexer,col_indexer] = value instead\n",
            "\n",
            "See the caveats in the documentation: https://pandas.pydata.org/pandas-docs/stable/user_guide/indexing.html#returning-a-view-versus-a-copy\n",
            "  df_filtered['Relative Frequency'] = df_filtered['Word'].apply(lambda word: df_filtered[df_filtered['Word'] == word]['Frequency'].values[0] / total_occurrence.get(word, 1))\n",
            "<ipython-input-12-af2679f10432>:83: SettingWithCopyWarning: \n",
            "A value is trying to be set on a copy of a slice from a DataFrame\n",
            "\n",
            "See the caveats in the documentation: https://pandas.pydata.org/pandas-docs/stable/user_guide/indexing.html#returning-a-view-versus-a-copy\n",
            "  df_filtered.sort_values(by='Relative Frequency', ascending=False, inplace=True)\n",
            "<ipython-input-12-af2679f10432>:84: SettingWithCopyWarning: \n",
            "A value is trying to be set on a copy of a slice from a DataFrame\n",
            "\n",
            "See the caveats in the documentation: https://pandas.pydata.org/pandas-docs/stable/user_guide/indexing.html#returning-a-view-versus-a-copy\n",
            "  df_filtered.drop_duplicates(subset='Word', keep='first', inplace=True)\n"
          ]
        },
        {
          "output_type": "stream",
          "name": "stdout",
          "text": [
            "avg duration of overlap = 5837.74182444062 ms\n"
          ]
        },
        {
          "output_type": "stream",
          "name": "stderr",
          "text": [
            "<ipython-input-12-af2679f10432>:80: SettingWithCopyWarning: \n",
            "A value is trying to be set on a copy of a slice from a DataFrame.\n",
            "Try using .loc[row_indexer,col_indexer] = value instead\n",
            "\n",
            "See the caveats in the documentation: https://pandas.pydata.org/pandas-docs/stable/user_guide/indexing.html#returning-a-view-versus-a-copy\n",
            "  df_filtered['Relative Frequency'] = df_filtered['Word'].apply(lambda word: df_filtered[df_filtered['Word'] == word]['Frequency'].values[0] / total_occurrence.get(word, 1))\n",
            "<ipython-input-12-af2679f10432>:83: SettingWithCopyWarning: \n",
            "A value is trying to be set on a copy of a slice from a DataFrame\n",
            "\n",
            "See the caveats in the documentation: https://pandas.pydata.org/pandas-docs/stable/user_guide/indexing.html#returning-a-view-versus-a-copy\n",
            "  df_filtered.sort_values(by='Relative Frequency', ascending=False, inplace=True)\n",
            "<ipython-input-12-af2679f10432>:84: SettingWithCopyWarning: \n",
            "A value is trying to be set on a copy of a slice from a DataFrame\n",
            "\n",
            "See the caveats in the documentation: https://pandas.pydata.org/pandas-docs/stable/user_guide/indexing.html#returning-a-view-versus-a-copy\n",
            "  df_filtered.drop_duplicates(subset='Word', keep='first', inplace=True)\n"
          ]
        }
      ]
    },
    {
      "cell_type": "code",
      "source": [
        "# Concatenate the results into a single DataFrame\n",
        "all_data = pd.concat([result for result in results.values()], ignore_index=True)\n",
        "\n",
        "# Group by 'Word' and sum the frequencies\n",
        "merged_df = all_data.groupby('Word').agg({'Frequency': 'sum'}).reset_index()\n",
        "\n",
        "# Calculate total word count across both files\n",
        "total_word_count = sum([len(text.read().split()) for text in [open(file.replace('.eaf', '.txt'), 'r') for file in elan_files]])\n",
        "\n",
        "# Calculate relative frequency\n",
        "merged_df['Relative Frequency'] = merged_df['Frequency'] / total_word_count * 100\n",
        "\n",
        "sheet = sheets.InteractiveSheet(df=merged_df)"
      ],
      "metadata": {
        "colab": {
          "base_uri": "https://localhost:8080/",
          "height": 693
        },
        "id": "lo0yNtTkkH47",
        "outputId": "89eb01c8-c72f-49a7-998e-63c258607160"
      },
      "execution_count": 13,
      "outputs": [
        {
          "output_type": "stream",
          "name": "stdout",
          "text": [
            "https://docs.google.com/spreadsheets/d/1ObRgyISqXj40EmKV1rR1Ku8ctHBxOovorE2I8nQSqg0#gid=0\n"
          ]
        },
        {
          "output_type": "stream",
          "name": "stderr",
          "text": [
            "/usr/local/lib/python3.10/dist-packages/google/colab/sheets.py:31: FutureWarning: DataFrame.applymap has been deprecated. Use DataFrame.map instead.\n",
            "  return frame.applymap(_clean_val).replace({np.nan: None})\n"
          ]
        },
        {
          "output_type": "display_data",
          "data": {
            "text/plain": [
              "<IPython.lib.display.IFrame at 0x7bcdc8f7fe50>"
            ],
            "text/html": [
              "\n",
              "        <iframe\n",
              "            width=\"100%\"\n",
              "            height=\"600\"\n",
              "            src=\"https://docs.google.com/spreadsheets/d/1ObRgyISqXj40EmKV1rR1Ku8ctHBxOovorE2I8nQSqg0#gid=0/edit?rm=embedded?usp=sharing?widget=true&amp;headers=false\"\n",
              "            frameborder=\"0\"\n",
              "            allowfullscreen\n",
              "            \n",
              "        ></iframe>\n",
              "        "
            ]
          },
          "metadata": {}
        }
      ]
    }
  ]
}